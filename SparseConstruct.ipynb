{
 "cells": [
  {
   "cell_type": "code",
   "execution_count": null,
   "metadata": {
    "collapsed": true
   },
   "outputs": [],
   "source": [
    "# MLOC: Map from {x,y,z}-tuple to matrix location\n",
    "\n",
    "function mloc(x,y,z)\n",
    "    return ((x+N)%N + ((y+N)%N)*N + ((z+N)%N)*N*N)+1\n",
    "end"
   ]
  },
  {
   "cell_type": "code",
   "execution_count": 24,
   "metadata": {
    "collapsed": false
   },
   "outputs": [
    {
     "name": "stdout",
     "output_type": "stream",
     "text": [
      "1D size: 3\n",
      "Number of units N^3: 27\n",
      "Sparse Hamiltonian constructed \n"
     ]
    }
   ],
   "source": [
    "# SET-UP\n",
    "# verbose ~ Boolean; set to false to supress excessive output, true otherwise\n",
    "# N       ~ length in 1D of our 3D matrix\n",
    "\n",
    "verbose = false\n",
    "N       = 3\n",
    "\n",
    "println(\"1D size: \",N)\n",
    "println(\"Number of units N^3: \",N^3)\n",
    "\n",
    "# CONSTRUCT INDEX VECTORS\n",
    "# Notes:\n",
    "# (1) There may be a way to avoid triple nested for loop, but I think it's okay;\n",
    "# (2) I have removed the duplicates mod 3 (i.e. now loop over 0:N-1);\n",
    "# (3) Assuming six nearest neighbours for now (primitive cubic)\n",
    "\n",
    "# Initialise index vectors:\n",
    "\n",
    "Ivec = zeros(Int,(N^3)*6)\n",
    "Jvec = zeros(Int,(N^3)*6)\n",
    "Vvec = ones(Int,(N^3)*6)\n",
    "\n",
    "# Now give them some sensible entries:\n",
    "\n",
    "for z=0:N-1\n",
    "    for y=0:N-1\n",
    "        for x=0:N-1\n",
    "            \n",
    "            # Locations of six nearest neighbours:\n",
    "            \n",
    "            locs = [mloc(x+1,y,z), mloc(x-1,y,z), mloc(x,y+1,z), mloc(x,y-1,z), mloc(x,y,z+1), mloc(x,y,z-1)]\n",
    "            \n",
    "            if verbose\n",
    "                print(\"x = \",x,\", \",\"y = \",y,\", \",\"z = \",z,\", \",\"location: \", mloc(x,y,z),\"\\n\")\n",
    "                print(\"Six nearest neighbours at locations: \\n\") \n",
    "                print(locs, \"\\n\",\"\\n\")\n",
    "            end\n",
    "            \n",
    "            # Update the index vectors:\n",
    "  \n",
    "            Ivec[mloc(x,y,z)*6.0-5.0 : mloc(x,y,z)*6.0] = mloc(x,y,z) \n",
    "            Jvec[mloc(x,y,z)*6.0-5.0 : mloc(x,y,z)*6.0] = locs\n",
    "            \n",
    "        end\n",
    "    end\n",
    "end\n",
    "\n",
    "# Construct sparse Hamiltonian:\n",
    "\n",
    "H = sparse(Ivec,Jvec,Vvec)\n",
    "print(\"Sparse Hamiltonian constructed \\n\")\n",
    "\n",
    "if verbose\n",
    "    HH = full(H)    \n",
    "    print(\"Sparse matrix: \", H, \"\\n\")  \n",
    "    print(\"Dense matrix: \", HH, \"\\n\")\n",
    "end\n"
   ]
  }
 ],
 "metadata": {
  "kernelspec": {
   "display_name": "Julia 0.3.1",
   "language": "julia",
   "name": "julia 0.3"
  },
  "language_info": {
   "name": "julia",
   "version": "0.3.1"
  }
 },
 "nbformat": 4,
 "nbformat_minor": 0
}
